{
 "cells": [
  {
   "cell_type": "code",
   "execution_count": 183,
   "metadata": {
    "collapsed": true
   },
   "outputs": [],
   "source": [
    "import numpy as np\n",
    "import pandas as pd\n",
    "import matplotlib.pyplot as plt\n",
    "%matplotlib inline\n",
    "import seaborn as sns"
   ]
  },
  {
   "cell_type": "code",
   "execution_count": 184,
   "metadata": {
    "scrolled": true
   },
   "outputs": [
    {
     "data": {
      "text/html": [
       "<div>\n",
       "<style>\n",
       "    .dataframe thead tr:only-child th {\n",
       "        text-align: right;\n",
       "    }\n",
       "\n",
       "    .dataframe thead th {\n",
       "        text-align: left;\n",
       "    }\n",
       "\n",
       "    .dataframe tbody tr th {\n",
       "        vertical-align: top;\n",
       "    }\n",
       "</style>\n",
       "<table border=\"1\" class=\"dataframe\">\n",
       "  <thead>\n",
       "    <tr style=\"text-align: right;\">\n",
       "      <th></th>\n",
       "      <th>transaction_id</th>\n",
       "      <th>num_var_1</th>\n",
       "      <th>num_var_2</th>\n",
       "      <th>num_var_3</th>\n",
       "      <th>num_var_4</th>\n",
       "      <th>num_var_5</th>\n",
       "      <th>num_var_6</th>\n",
       "      <th>num_var_7</th>\n",
       "      <th>cat_var_1</th>\n",
       "      <th>cat_var_2</th>\n",
       "      <th>...</th>\n",
       "      <th>cat_var_34</th>\n",
       "      <th>cat_var_35</th>\n",
       "      <th>cat_var_36</th>\n",
       "      <th>cat_var_37</th>\n",
       "      <th>cat_var_38</th>\n",
       "      <th>cat_var_39</th>\n",
       "      <th>cat_var_40</th>\n",
       "      <th>cat_var_41</th>\n",
       "      <th>cat_var_42</th>\n",
       "      <th>target</th>\n",
       "    </tr>\n",
       "  </thead>\n",
       "  <tbody>\n",
       "    <tr>\n",
       "      <th>0</th>\n",
       "      <td>id_11</td>\n",
       "      <td>2.302632e-08</td>\n",
       "      <td>0.040182</td>\n",
       "      <td>0.0</td>\n",
       "      <td>1.800000e-07</td>\n",
       "      <td>2.302632e-08</td>\n",
       "      <td>2.368421e-08</td>\n",
       "      <td>1.115205e-08</td>\n",
       "      <td>NaN</td>\n",
       "      <td>ce</td>\n",
       "      <td>...</td>\n",
       "      <td>0</td>\n",
       "      <td>0</td>\n",
       "      <td>0</td>\n",
       "      <td>0</td>\n",
       "      <td>0</td>\n",
       "      <td>0</td>\n",
       "      <td>0</td>\n",
       "      <td>0</td>\n",
       "      <td>0</td>\n",
       "      <td>0</td>\n",
       "    </tr>\n",
       "    <tr>\n",
       "      <th>1</th>\n",
       "      <td>id_33</td>\n",
       "      <td>7.965789e-06</td>\n",
       "      <td>0.157872</td>\n",
       "      <td>0.0</td>\n",
       "      <td>2.105000e-06</td>\n",
       "      <td>2.769737e-07</td>\n",
       "      <td>7.965789e-06</td>\n",
       "      <td>2.433058e-06</td>\n",
       "      <td>da</td>\n",
       "      <td>tn</td>\n",
       "      <td>...</td>\n",
       "      <td>0</td>\n",
       "      <td>0</td>\n",
       "      <td>0</td>\n",
       "      <td>0</td>\n",
       "      <td>0</td>\n",
       "      <td>0</td>\n",
       "      <td>0</td>\n",
       "      <td>0</td>\n",
       "      <td>0</td>\n",
       "      <td>0</td>\n",
       "    </tr>\n",
       "    <tr>\n",
       "      <th>2</th>\n",
       "      <td>id_51</td>\n",
       "      <td>7.828947e-08</td>\n",
       "      <td>0.089140</td>\n",
       "      <td>0.0</td>\n",
       "      <td>3.550000e-07</td>\n",
       "      <td>4.671053e-08</td>\n",
       "      <td>1.052632e-07</td>\n",
       "      <td>4.276014e-07</td>\n",
       "      <td>gf</td>\n",
       "      <td>ce</td>\n",
       "      <td>...</td>\n",
       "      <td>0</td>\n",
       "      <td>0</td>\n",
       "      <td>0</td>\n",
       "      <td>0</td>\n",
       "      <td>0</td>\n",
       "      <td>0</td>\n",
       "      <td>0</td>\n",
       "      <td>0</td>\n",
       "      <td>0</td>\n",
       "      <td>0</td>\n",
       "    </tr>\n",
       "    <tr>\n",
       "      <th>3</th>\n",
       "      <td>id_54</td>\n",
       "      <td>7.894737e-08</td>\n",
       "      <td>0.227239</td>\n",
       "      <td>0.0</td>\n",
       "      <td>1.050000e-06</td>\n",
       "      <td>1.381579e-07</td>\n",
       "      <td>2.190789e-07</td>\n",
       "      <td>1.848054e-08</td>\n",
       "      <td>NaN</td>\n",
       "      <td>ce</td>\n",
       "      <td>...</td>\n",
       "      <td>0</td>\n",
       "      <td>0</td>\n",
       "      <td>0</td>\n",
       "      <td>0</td>\n",
       "      <td>0</td>\n",
       "      <td>0</td>\n",
       "      <td>0</td>\n",
       "      <td>0</td>\n",
       "      <td>0</td>\n",
       "      <td>0</td>\n",
       "    </tr>\n",
       "    <tr>\n",
       "      <th>4</th>\n",
       "      <td>id_62</td>\n",
       "      <td>3.321053e-06</td>\n",
       "      <td>0.160410</td>\n",
       "      <td>0.0</td>\n",
       "      <td>2.105000e-06</td>\n",
       "      <td>2.769737e-07</td>\n",
       "      <td>3.340789e-06</td>\n",
       "      <td>2.152983e-06</td>\n",
       "      <td>da</td>\n",
       "      <td>tn</td>\n",
       "      <td>...</td>\n",
       "      <td>0</td>\n",
       "      <td>0</td>\n",
       "      <td>0</td>\n",
       "      <td>0</td>\n",
       "      <td>0</td>\n",
       "      <td>0</td>\n",
       "      <td>0</td>\n",
       "      <td>0</td>\n",
       "      <td>0</td>\n",
       "      <td>0</td>\n",
       "    </tr>\n",
       "  </tbody>\n",
       "</table>\n",
       "<p>5 rows × 51 columns</p>\n",
       "</div>"
      ],
      "text/plain": [
       "  transaction_id     num_var_1  num_var_2  num_var_3     num_var_4  \\\n",
       "0          id_11  2.302632e-08   0.040182        0.0  1.800000e-07   \n",
       "1          id_33  7.965789e-06   0.157872        0.0  2.105000e-06   \n",
       "2          id_51  7.828947e-08   0.089140        0.0  3.550000e-07   \n",
       "3          id_54  7.894737e-08   0.227239        0.0  1.050000e-06   \n",
       "4          id_62  3.321053e-06   0.160410        0.0  2.105000e-06   \n",
       "\n",
       "      num_var_5     num_var_6     num_var_7 cat_var_1 cat_var_2  ...    \\\n",
       "0  2.302632e-08  2.368421e-08  1.115205e-08       NaN        ce  ...     \n",
       "1  2.769737e-07  7.965789e-06  2.433058e-06        da        tn  ...     \n",
       "2  4.671053e-08  1.052632e-07  4.276014e-07        gf        ce  ...     \n",
       "3  1.381579e-07  2.190789e-07  1.848054e-08       NaN        ce  ...     \n",
       "4  2.769737e-07  3.340789e-06  2.152983e-06        da        tn  ...     \n",
       "\n",
       "  cat_var_34 cat_var_35 cat_var_36 cat_var_37 cat_var_38 cat_var_39  \\\n",
       "0          0          0          0          0          0          0   \n",
       "1          0          0          0          0          0          0   \n",
       "2          0          0          0          0          0          0   \n",
       "3          0          0          0          0          0          0   \n",
       "4          0          0          0          0          0          0   \n",
       "\n",
       "  cat_var_40 cat_var_41 cat_var_42 target  \n",
       "0          0          0          0      0  \n",
       "1          0          0          0      0  \n",
       "2          0          0          0      0  \n",
       "3          0          0          0      0  \n",
       "4          0          0          0      0  \n",
       "\n",
       "[5 rows x 51 columns]"
      ]
     },
     "execution_count": 184,
     "metadata": {},
     "output_type": "execute_result"
    }
   ],
   "source": [
    "train=pd.read_csv('bw2train.csv')\n",
    "train.head()"
   ]
  },
  {
   "cell_type": "code",
   "execution_count": 185,
   "metadata": {
    "scrolled": true
   },
   "outputs": [
    {
     "data": {
      "text/html": [
       "<div>\n",
       "<style>\n",
       "    .dataframe thead tr:only-child th {\n",
       "        text-align: right;\n",
       "    }\n",
       "\n",
       "    .dataframe thead th {\n",
       "        text-align: left;\n",
       "    }\n",
       "\n",
       "    .dataframe tbody tr th {\n",
       "        vertical-align: top;\n",
       "    }\n",
       "</style>\n",
       "<table border=\"1\" class=\"dataframe\">\n",
       "  <thead>\n",
       "    <tr style=\"text-align: right;\">\n",
       "      <th></th>\n",
       "      <th>transaction_id</th>\n",
       "      <th>num_var_1</th>\n",
       "      <th>num_var_2</th>\n",
       "      <th>num_var_3</th>\n",
       "      <th>num_var_4</th>\n",
       "      <th>num_var_5</th>\n",
       "      <th>num_var_6</th>\n",
       "      <th>num_var_7</th>\n",
       "      <th>cat_var_1</th>\n",
       "      <th>cat_var_2</th>\n",
       "      <th>...</th>\n",
       "      <th>cat_var_33</th>\n",
       "      <th>cat_var_34</th>\n",
       "      <th>cat_var_35</th>\n",
       "      <th>cat_var_36</th>\n",
       "      <th>cat_var_37</th>\n",
       "      <th>cat_var_38</th>\n",
       "      <th>cat_var_39</th>\n",
       "      <th>cat_var_40</th>\n",
       "      <th>cat_var_41</th>\n",
       "      <th>cat_var_42</th>\n",
       "    </tr>\n",
       "  </thead>\n",
       "  <tbody>\n",
       "    <tr>\n",
       "      <th>0</th>\n",
       "      <td>id_1</td>\n",
       "      <td>4.736842e-07</td>\n",
       "      <td>0.162737</td>\n",
       "      <td>0.0</td>\n",
       "      <td>2.105000e-06</td>\n",
       "      <td>2.769737e-07</td>\n",
       "      <td>4.828947e-07</td>\n",
       "      <td>1.300010e-07</td>\n",
       "      <td>da</td>\n",
       "      <td>tn</td>\n",
       "      <td>...</td>\n",
       "      <td>0</td>\n",
       "      <td>0</td>\n",
       "      <td>0</td>\n",
       "      <td>0</td>\n",
       "      <td>0</td>\n",
       "      <td>0</td>\n",
       "      <td>0</td>\n",
       "      <td>0</td>\n",
       "      <td>0</td>\n",
       "      <td>0</td>\n",
       "    </tr>\n",
       "    <tr>\n",
       "      <th>1</th>\n",
       "      <td>id_6</td>\n",
       "      <td>6.578947e-08</td>\n",
       "      <td>0.086391</td>\n",
       "      <td>0.0</td>\n",
       "      <td>7.500000e-07</td>\n",
       "      <td>1.315789e-07</td>\n",
       "      <td>9.868421e-08</td>\n",
       "      <td>3.186300e-08</td>\n",
       "      <td>pu</td>\n",
       "      <td>ce</td>\n",
       "      <td>...</td>\n",
       "      <td>0</td>\n",
       "      <td>0</td>\n",
       "      <td>0</td>\n",
       "      <td>0</td>\n",
       "      <td>0</td>\n",
       "      <td>0</td>\n",
       "      <td>0</td>\n",
       "      <td>0</td>\n",
       "      <td>0</td>\n",
       "      <td>0</td>\n",
       "    </tr>\n",
       "    <tr>\n",
       "      <th>2</th>\n",
       "      <td>id_9</td>\n",
       "      <td>1.585526e-07</td>\n",
       "      <td>0.159987</td>\n",
       "      <td>0.0</td>\n",
       "      <td>2.105000e-06</td>\n",
       "      <td>2.769737e-07</td>\n",
       "      <td>1.585526e-07</td>\n",
       "      <td>4.715724e-08</td>\n",
       "      <td>da</td>\n",
       "      <td>tn</td>\n",
       "      <td>...</td>\n",
       "      <td>0</td>\n",
       "      <td>0</td>\n",
       "      <td>0</td>\n",
       "      <td>0</td>\n",
       "      <td>0</td>\n",
       "      <td>0</td>\n",
       "      <td>0</td>\n",
       "      <td>0</td>\n",
       "      <td>0</td>\n",
       "      <td>0</td>\n",
       "    </tr>\n",
       "    <tr>\n",
       "      <th>3</th>\n",
       "      <td>id_14</td>\n",
       "      <td>8.552632e-08</td>\n",
       "      <td>0.088083</td>\n",
       "      <td>0.0</td>\n",
       "      <td>7.500000e-07</td>\n",
       "      <td>8.552632e-08</td>\n",
       "      <td>9.868421e-08</td>\n",
       "      <td>4.142190e-08</td>\n",
       "      <td>pu</td>\n",
       "      <td>ce</td>\n",
       "      <td>...</td>\n",
       "      <td>0</td>\n",
       "      <td>0</td>\n",
       "      <td>0</td>\n",
       "      <td>0</td>\n",
       "      <td>0</td>\n",
       "      <td>0</td>\n",
       "      <td>0</td>\n",
       "      <td>0</td>\n",
       "      <td>0</td>\n",
       "      <td>0</td>\n",
       "    </tr>\n",
       "    <tr>\n",
       "      <th>4</th>\n",
       "      <td>id_15</td>\n",
       "      <td>1.144737e-07</td>\n",
       "      <td>0.089563</td>\n",
       "      <td>0.0</td>\n",
       "      <td>3.550000e-07</td>\n",
       "      <td>4.671053e-08</td>\n",
       "      <td>4.407895e-08</td>\n",
       "      <td>1.452953e-07</td>\n",
       "      <td>gf</td>\n",
       "      <td>ce</td>\n",
       "      <td>...</td>\n",
       "      <td>0</td>\n",
       "      <td>0</td>\n",
       "      <td>0</td>\n",
       "      <td>0</td>\n",
       "      <td>0</td>\n",
       "      <td>0</td>\n",
       "      <td>0</td>\n",
       "      <td>0</td>\n",
       "      <td>0</td>\n",
       "      <td>0</td>\n",
       "    </tr>\n",
       "  </tbody>\n",
       "</table>\n",
       "<p>5 rows × 50 columns</p>\n",
       "</div>"
      ],
      "text/plain": [
       "  transaction_id     num_var_1  num_var_2  num_var_3     num_var_4  \\\n",
       "0           id_1  4.736842e-07   0.162737        0.0  2.105000e-06   \n",
       "1           id_6  6.578947e-08   0.086391        0.0  7.500000e-07   \n",
       "2           id_9  1.585526e-07   0.159987        0.0  2.105000e-06   \n",
       "3          id_14  8.552632e-08   0.088083        0.0  7.500000e-07   \n",
       "4          id_15  1.144737e-07   0.089563        0.0  3.550000e-07   \n",
       "\n",
       "      num_var_5     num_var_6     num_var_7 cat_var_1 cat_var_2    ...      \\\n",
       "0  2.769737e-07  4.828947e-07  1.300010e-07        da        tn    ...       \n",
       "1  1.315789e-07  9.868421e-08  3.186300e-08        pu        ce    ...       \n",
       "2  2.769737e-07  1.585526e-07  4.715724e-08        da        tn    ...       \n",
       "3  8.552632e-08  9.868421e-08  4.142190e-08        pu        ce    ...       \n",
       "4  4.671053e-08  4.407895e-08  1.452953e-07        gf        ce    ...       \n",
       "\n",
       "  cat_var_33 cat_var_34 cat_var_35 cat_var_36 cat_var_37 cat_var_38  \\\n",
       "0          0          0          0          0          0          0   \n",
       "1          0          0          0          0          0          0   \n",
       "2          0          0          0          0          0          0   \n",
       "3          0          0          0          0          0          0   \n",
       "4          0          0          0          0          0          0   \n",
       "\n",
       "  cat_var_39 cat_var_40 cat_var_41 cat_var_42  \n",
       "0          0          0          0          0  \n",
       "1          0          0          0          0  \n",
       "2          0          0          0          0  \n",
       "3          0          0          0          0  \n",
       "4          0          0          0          0  \n",
       "\n",
       "[5 rows x 50 columns]"
      ]
     },
     "execution_count": 185,
     "metadata": {},
     "output_type": "execute_result"
    }
   ],
   "source": [
    "test=pd.read_csv('bw2test.csv')\n",
    "test.head()"
   ]
  },
  {
   "cell_type": "code",
   "execution_count": 186,
   "metadata": {},
   "outputs": [
    {
     "data": {
      "text/plain": [
       "(348978, 51)"
      ]
     },
     "execution_count": 186,
     "metadata": {},
     "output_type": "execute_result"
    }
   ],
   "source": [
    "train.shape"
   ]
  },
  {
   "cell_type": "code",
   "execution_count": 187,
   "metadata": {
    "collapsed": true
   },
   "outputs": [],
   "source": [
    "from sklearn.base import TransformerMixin\n",
    "class DataFrameImputer(TransformerMixin):\n",
    "    def fit(self, X, y=None):\n",
    "        self.fill = pd.Series([X[c].value_counts().index[0]\n",
    "            if X[c].dtype == np.dtype('O') else X[c].median() for c in X],\n",
    "            index=X.columns)\n",
    "        return self\n",
    "    def transform(self, X, y=None):\n",
    "        return X.fillna(self.fill)"
   ]
  },
  {
   "cell_type": "code",
   "execution_count": 188,
   "metadata": {
    "collapsed": true
   },
   "outputs": [],
   "source": [
    "train = DataFrameImputer().fit_transform(train)"
   ]
  },
  {
   "cell_type": "code",
   "execution_count": 189,
   "metadata": {
    "scrolled": false
   },
   "outputs": [
    {
     "data": {
      "text/html": [
       "<div>\n",
       "<style>\n",
       "    .dataframe thead tr:only-child th {\n",
       "        text-align: right;\n",
       "    }\n",
       "\n",
       "    .dataframe thead th {\n",
       "        text-align: left;\n",
       "    }\n",
       "\n",
       "    .dataframe tbody tr th {\n",
       "        vertical-align: top;\n",
       "    }\n",
       "</style>\n",
       "<table border=\"1\" class=\"dataframe\">\n",
       "  <thead>\n",
       "    <tr style=\"text-align: right;\">\n",
       "      <th></th>\n",
       "      <th>num_var_1</th>\n",
       "      <th>num_var_2</th>\n",
       "      <th>num_var_4</th>\n",
       "      <th>num_var_5</th>\n",
       "      <th>num_var_6</th>\n",
       "      <th>num_var_7</th>\n",
       "      <th>cat_var_1</th>\n",
       "      <th>cat_var_3</th>\n",
       "      <th>cat_var_4</th>\n",
       "      <th>cat_var_6</th>\n",
       "      <th>...</th>\n",
       "      <th>cat_var_19</th>\n",
       "      <th>cat_var_20</th>\n",
       "      <th>cat_var_21</th>\n",
       "      <th>cat_var_22</th>\n",
       "      <th>cat_var_24</th>\n",
       "      <th>cat_var_25</th>\n",
       "      <th>cat_var_26</th>\n",
       "      <th>cat_var_28</th>\n",
       "      <th>cat_var_29</th>\n",
       "      <th>cat_var_30</th>\n",
       "    </tr>\n",
       "  </thead>\n",
       "  <tbody>\n",
       "    <tr>\n",
       "      <th>0</th>\n",
       "      <td>4.736842e-07</td>\n",
       "      <td>0.162737</td>\n",
       "      <td>2.105000e-06</td>\n",
       "      <td>2.769737e-07</td>\n",
       "      <td>4.828947e-07</td>\n",
       "      <td>1.300010e-07</td>\n",
       "      <td>da</td>\n",
       "      <td>gt</td>\n",
       "      <td>tn</td>\n",
       "      <td>hm</td>\n",
       "      <td>...</td>\n",
       "      <td>1</td>\n",
       "      <td>0</td>\n",
       "      <td>1</td>\n",
       "      <td>0</td>\n",
       "      <td>1</td>\n",
       "      <td>0</td>\n",
       "      <td>0</td>\n",
       "      <td>0</td>\n",
       "      <td>0</td>\n",
       "      <td>0</td>\n",
       "    </tr>\n",
       "    <tr>\n",
       "      <th>1</th>\n",
       "      <td>6.578947e-08</td>\n",
       "      <td>0.086391</td>\n",
       "      <td>7.500000e-07</td>\n",
       "      <td>1.315789e-07</td>\n",
       "      <td>9.868421e-08</td>\n",
       "      <td>3.186300e-08</td>\n",
       "      <td>pu</td>\n",
       "      <td>NaN</td>\n",
       "      <td>ep</td>\n",
       "      <td>oi</td>\n",
       "      <td>...</td>\n",
       "      <td>0</td>\n",
       "      <td>1</td>\n",
       "      <td>1</td>\n",
       "      <td>0</td>\n",
       "      <td>1</td>\n",
       "      <td>0</td>\n",
       "      <td>0</td>\n",
       "      <td>0</td>\n",
       "      <td>0</td>\n",
       "      <td>0</td>\n",
       "    </tr>\n",
       "    <tr>\n",
       "      <th>2</th>\n",
       "      <td>1.585526e-07</td>\n",
       "      <td>0.159987</td>\n",
       "      <td>2.105000e-06</td>\n",
       "      <td>2.769737e-07</td>\n",
       "      <td>1.585526e-07</td>\n",
       "      <td>4.715724e-08</td>\n",
       "      <td>da</td>\n",
       "      <td>qz</td>\n",
       "      <td>tn</td>\n",
       "      <td>hm</td>\n",
       "      <td>...</td>\n",
       "      <td>1</td>\n",
       "      <td>0</td>\n",
       "      <td>1</td>\n",
       "      <td>0</td>\n",
       "      <td>1</td>\n",
       "      <td>0</td>\n",
       "      <td>0</td>\n",
       "      <td>0</td>\n",
       "      <td>0</td>\n",
       "      <td>0</td>\n",
       "    </tr>\n",
       "    <tr>\n",
       "      <th>3</th>\n",
       "      <td>8.552632e-08</td>\n",
       "      <td>0.088083</td>\n",
       "      <td>7.500000e-07</td>\n",
       "      <td>8.552632e-08</td>\n",
       "      <td>9.868421e-08</td>\n",
       "      <td>4.142190e-08</td>\n",
       "      <td>pu</td>\n",
       "      <td>ex</td>\n",
       "      <td>ep</td>\n",
       "      <td>no</td>\n",
       "      <td>...</td>\n",
       "      <td>0</td>\n",
       "      <td>1</td>\n",
       "      <td>1</td>\n",
       "      <td>0</td>\n",
       "      <td>1</td>\n",
       "      <td>0</td>\n",
       "      <td>0</td>\n",
       "      <td>0</td>\n",
       "      <td>0</td>\n",
       "      <td>0</td>\n",
       "    </tr>\n",
       "    <tr>\n",
       "      <th>4</th>\n",
       "      <td>1.144737e-07</td>\n",
       "      <td>0.089563</td>\n",
       "      <td>3.550000e-07</td>\n",
       "      <td>4.671053e-08</td>\n",
       "      <td>4.407895e-08</td>\n",
       "      <td>1.452953e-07</td>\n",
       "      <td>gf</td>\n",
       "      <td>NaN</td>\n",
       "      <td>tn</td>\n",
       "      <td>zs</td>\n",
       "      <td>...</td>\n",
       "      <td>0</td>\n",
       "      <td>1</td>\n",
       "      <td>0</td>\n",
       "      <td>1</td>\n",
       "      <td>1</td>\n",
       "      <td>0</td>\n",
       "      <td>0</td>\n",
       "      <td>0</td>\n",
       "      <td>0</td>\n",
       "      <td>0</td>\n",
       "    </tr>\n",
       "  </tbody>\n",
       "</table>\n",
       "<p>5 rows × 27 columns</p>\n",
       "</div>"
      ],
      "text/plain": [
       "      num_var_1  num_var_2     num_var_4     num_var_5     num_var_6  \\\n",
       "0  4.736842e-07   0.162737  2.105000e-06  2.769737e-07  4.828947e-07   \n",
       "1  6.578947e-08   0.086391  7.500000e-07  1.315789e-07  9.868421e-08   \n",
       "2  1.585526e-07   0.159987  2.105000e-06  2.769737e-07  1.585526e-07   \n",
       "3  8.552632e-08   0.088083  7.500000e-07  8.552632e-08  9.868421e-08   \n",
       "4  1.144737e-07   0.089563  3.550000e-07  4.671053e-08  4.407895e-08   \n",
       "\n",
       "      num_var_7 cat_var_1 cat_var_3 cat_var_4 cat_var_6     ...      \\\n",
       "0  1.300010e-07        da        gt        tn        hm     ...       \n",
       "1  3.186300e-08        pu       NaN        ep        oi     ...       \n",
       "2  4.715724e-08        da        qz        tn        hm     ...       \n",
       "3  4.142190e-08        pu        ex        ep        no     ...       \n",
       "4  1.452953e-07        gf       NaN        tn        zs     ...       \n",
       "\n",
       "  cat_var_19 cat_var_20 cat_var_21 cat_var_22 cat_var_24 cat_var_25  \\\n",
       "0          1          0          1          0          1          0   \n",
       "1          0          1          1          0          1          0   \n",
       "2          1          0          1          0          1          0   \n",
       "3          0          1          1          0          1          0   \n",
       "4          0          1          0          1          1          0   \n",
       "\n",
       "  cat_var_26  cat_var_28  cat_var_29  cat_var_30  \n",
       "0          0           0           0           0  \n",
       "1          0           0           0           0  \n",
       "2          0           0           0           0  \n",
       "3          0           0           0           0  \n",
       "4          0           0           0           0  \n",
       "\n",
       "[5 rows x 27 columns]"
      ]
     },
     "execution_count": 189,
     "metadata": {},
     "output_type": "execute_result"
    }
   ],
   "source": [
    "test=pd.read_csv('bw2test.csv')\n",
    "test_df=test[['num_var_1', 'num_var_2','num_var_4','num_var_5', 'num_var_6', 'num_var_7', 'cat_var_1','cat_var_3', 'cat_var_4', 'cat_var_6', 'cat_var_8', 'cat_var_10','cat_var_13','cat_var_14','cat_var_15', 'cat_var_17', 'cat_var_18','cat_var_19','cat_var_20','cat_var_21','cat_var_22','cat_var_24','cat_var_25','cat_var_26','cat_var_28','cat_var_29','cat_var_30']]\n",
    "test_df.head()"
   ]
  },
  {
   "cell_type": "code",
   "execution_count": 190,
   "metadata": {},
   "outputs": [],
   "source": [
    "train_df=train[['num_var_1', 'num_var_2','num_var_4','num_var_5', 'num_var_6', 'num_var_7', 'cat_var_1','cat_var_3', 'cat_var_4', 'cat_var_6', 'cat_var_8', 'cat_var_10','cat_var_13','cat_var_14','cat_var_15', 'cat_var_17', 'cat_var_18','cat_var_19','cat_var_20','cat_var_21','cat_var_22','cat_var_24','cat_var_25','cat_var_26','cat_var_28','cat_var_29','cat_var_30']]"
   ]
  },
  {
   "cell_type": "code",
   "execution_count": 191,
   "metadata": {},
   "outputs": [
    {
     "data": {
      "text/plain": [
       "27"
      ]
     },
     "execution_count": 191,
     "metadata": {},
     "output_type": "execute_result"
    }
   ],
   "source": [
    "len(train_df.columns)"
   ]
  },
  {
   "cell_type": "code",
   "execution_count": 192,
   "metadata": {},
   "outputs": [],
   "source": [
    "# We'll impute missing values using the median for numeric columns and the most common value for string columns.\n",
    "from sklearn.base import TransformerMixin\n",
    "class DataFrameImputer(TransformerMixin):\n",
    "    def fit(self, X, y=None):\n",
    "        self.fill = pd.Series([X[c].value_counts().index[0]\n",
    "            if X[c].dtype == np.dtype('O') else X[c].median() for c in X],\n",
    "            index=X.columns)\n",
    "        return self\n",
    "    def transform(self, X, y=None):\n",
    "        return X.fillna(self.fill)"
   ]
  },
  {
   "cell_type": "code",
   "execution_count": 193,
   "metadata": {
    "collapsed": true
   },
   "outputs": [],
   "source": [
    "all_X=train.append(test)\n",
    "all_X_imputed = DataFrameImputer().fit_transform(all_X)"
   ]
  },
  {
   "cell_type": "code",
   "execution_count": 70,
   "metadata": {},
   "outputs": [],
   "source": [
    "big_X = train_df.append(test_df)\n",
    "big_X_imputed = DataFrameImputer().fit_transform(big_X)"
   ]
  },
  {
   "cell_type": "code",
   "execution_count": 71,
   "metadata": {},
   "outputs": [
    {
     "data": {
      "text/plain": [
       "Index(['num_var_1', 'num_var_2', 'num_var_4', 'num_var_5', 'num_var_6',\n",
       "       'num_var_7', 'cat_var_1', 'cat_var_3', 'cat_var_4', 'cat_var_6',\n",
       "       'cat_var_8', 'cat_var_10', 'cat_var_13', 'cat_var_14', 'cat_var_15',\n",
       "       'cat_var_17', 'cat_var_18', 'cat_var_19', 'cat_var_20', 'cat_var_21',\n",
       "       'cat_var_22', 'cat_var_24', 'cat_var_25', 'cat_var_26', 'cat_var_28',\n",
       "       'cat_var_29', 'cat_var_30'],\n",
       "      dtype='object')"
      ]
     },
     "execution_count": 71,
     "metadata": {},
     "output_type": "execute_result"
    }
   ],
   "source": [
    "big_X_imputed.columns"
   ]
  },
  {
   "cell_type": "code",
   "execution_count": 72,
   "metadata": {},
   "outputs": [],
   "source": [
    "#categorical values to numerical values\n",
    "from sklearn.preprocessing import LabelEncoder\n",
    "le = LabelEncoder()\n",
    "for feature in big_X_imputed.columns:\n",
    "    if big_X_imputed[feature].dtype == 'object':\n",
    "        big_X_imputed[feature] = le.fit_transform(big_X_imputed[feature])"
   ]
  },
  {
   "cell_type": "code",
   "execution_count": 171,
   "metadata": {
    "collapsed": true
   },
   "outputs": [],
   "source": [
    "#categorical values to numerical values\n",
    "from sklearn.preprocessing import LabelEncoder\n",
    "le = LabelEncoder()\n",
    "for feature in all_X_imputed.columns:\n",
    "    if all_X_imputed[feature].dtype == 'object':\n",
    "        all_X_imputed[feature] = le.fit_transform(all_X_imputed[feature])"
   ]
  },
  {
   "cell_type": "code",
   "execution_count": 73,
   "metadata": {
    "scrolled": true
   },
   "outputs": [
    {
     "data": {
      "text/plain": [
       "Index(['num_var_1', 'num_var_2', 'num_var_4', 'num_var_5', 'num_var_6',\n",
       "       'num_var_7', 'cat_var_1', 'cat_var_3', 'cat_var_4', 'cat_var_6',\n",
       "       'cat_var_8', 'cat_var_10', 'cat_var_13', 'cat_var_14', 'cat_var_15',\n",
       "       'cat_var_17', 'cat_var_18', 'cat_var_19', 'cat_var_20', 'cat_var_21',\n",
       "       'cat_var_22', 'cat_var_24', 'cat_var_25', 'cat_var_26', 'cat_var_28',\n",
       "       'cat_var_29', 'cat_var_30'],\n",
       "      dtype='object')"
      ]
     },
     "execution_count": 73,
     "metadata": {},
     "output_type": "execute_result"
    }
   ],
   "source": [
    "big_X_imputed.columns"
   ]
  },
  {
   "cell_type": "code",
   "execution_count": 45,
   "metadata": {},
   "outputs": [
    {
     "name": "stderr",
     "output_type": "stream",
     "text": [
      "C:\\Users\\Debadri\\Anaconda3\\lib\\site-packages\\ipykernel_launcher.py:4: DataConversionWarning: A column-vector y was passed when a 1d array was expected. Please change the shape of y to (n_samples,), for example using ravel().\n",
      "  after removing the cwd from sys.path.\n"
     ]
    }
   ],
   "source": [
    "from sklearn.ensemble import ExtraTreesClassifier\n",
    "from sklearn.feature_selection import SelectFromModel\n",
    "clf = ExtraTreesClassifier(random_state=0)\n",
    "clf = clf.fit(X_train, y_train)\n",
    "clf.feature_importances_  \n",
    "\n",
    "model = SelectFromModel(clf, prefit=True)"
   ]
  },
  {
   "cell_type": "code",
   "execution_count": 48,
   "metadata": {},
   "outputs": [
    {
     "name": "stdout",
     "output_type": "stream",
     "text": [
      "Index(['num_var_1', 'num_var_2', 'num_var_6', 'num_var_7', 'cat_var_1',\n",
      "       'cat_var_3', 'cat_var_4', 'cat_var_6', 'cat_var_8', 'cat_var_10',\n",
      "       'cat_var_13', 'cat_var_14', 'cat_var_15'],\n",
      "      dtype='object')\n"
     ]
    }
   ],
   "source": [
    "X_train_opt = model.transform(X_train)\n",
    "feature_idx_train = model.get_support()\n",
    "feature_name_train = X_train.columns[feature_idx_train]\n",
    "print(feature_name_train)"
   ]
  },
  {
   "cell_type": "code",
   "execution_count": 74,
   "metadata": {},
   "outputs": [],
   "source": [
    "big_X_imputed.drop(['num_var_4','num_var_5','cat_var_17','cat_var_18','cat_var_19', 'cat_var_20', 'cat_var_21', 'cat_var_22', 'cat_var_24','cat_var_25', 'cat_var_26', 'cat_var_28', 'cat_var_29', 'cat_var_30'],axis=1,inplace=True)"
   ]
  },
  {
   "cell_type": "code",
   "execution_count": 177,
   "metadata": {},
   "outputs": [],
   "source": [
    "all_X_imputed.drop('transaction_id',axis=1,inplace=True)"
   ]
  },
  {
   "cell_type": "code",
   "execution_count": 76,
   "metadata": {},
   "outputs": [],
   "source": [
    "train_X = big_X_imputed[0:train_df.shape[0]].as_matrix()\n",
    "test_X = big_X_imputed[train_df.shape[0]::].as_matrix()\n",
    "train_y = train['target']"
   ]
  },
  {
   "cell_type": "code",
   "execution_count": 180,
   "metadata": {
    "collapsed": true
   },
   "outputs": [],
   "source": [
    "x_train=all_X_imputed[0:train.shape[0]].as_matrix()\n",
    "x_test=all_X_imputed[train_df.shape[0]::].as_matrix()\n",
    "train_y = train['target']"
   ]
  },
  {
   "cell_type": "code",
   "execution_count": 173,
   "metadata": {
    "scrolled": true
   },
   "outputs": [
    {
     "data": {
      "text/plain": [
       "array([[  2.30263158e-08,   4.01818759e-02,   2.36842105e-08, ...,\n",
       "          1.90000000e+01,   1.00000000e+00,   0.00000000e+00],\n",
       "       [  7.96578947e-06,   1.57872475e-01,   7.96578947e-06, ...,\n",
       "          1.40000000e+01,   1.00000000e+00,   1.00000000e+00],\n",
       "       [  7.82894737e-08,   8.91403193e-02,   1.05263158e-07, ...,\n",
       "          1.60000000e+01,   1.00000000e+00,   0.00000000e+00],\n",
       "       ..., \n",
       "       [  4.54605263e-07,   1.48672941e-01,   4.54605263e-07, ...,\n",
       "          1.40000000e+01,   1.00000000e+00,   1.00000000e+00],\n",
       "       [  1.59210526e-07,   7.90948504e-02,   1.59210526e-07, ...,\n",
       "          1.60000000e+01,   1.00000000e+00,   0.00000000e+00],\n",
       "       [  1.71052632e-07,   1.63053823e-01,   1.84210526e-07, ...,\n",
       "          1.40000000e+01,   1.00000000e+00,   1.00000000e+00]])"
      ]
     },
     "execution_count": 173,
     "metadata": {},
     "output_type": "execute_result"
    }
   ],
   "source": [
    "train_X"
   ]
  },
  {
   "cell_type": "code",
   "execution_count": 78,
   "metadata": {
    "collapsed": true
   },
   "outputs": [],
   "source": [
    "test_X = big_X_imputed[train_df.shape[0]::].as_matrix()"
   ]
  },
  {
   "cell_type": "code",
   "execution_count": 79,
   "metadata": {},
   "outputs": [
    {
     "data": {
      "text/plain": [
       "array([[  4.73684211e-07,   1.62736597e-01,   4.82894737e-07, ...,\n",
       "          1.40000000e+01,   1.00000000e+00,   1.00000000e+00],\n",
       "       [  6.57894737e-08,   8.63910331e-02,   9.86842105e-08, ...,\n",
       "          1.00000000e+01,   2.00000000e+00,   0.00000000e+00],\n",
       "       [  1.58552632e-07,   1.59987311e-01,   1.58552632e-07, ...,\n",
       "          1.40000000e+01,   1.00000000e+00,   1.00000000e+00],\n",
       "       ..., \n",
       "       [  7.30263158e-08,   4.15776673e-01,   7.30263158e-08, ...,\n",
       "          5.10000000e+01,   1.00000000e+01,   0.00000000e+00],\n",
       "       [  1.05263158e-07,   1.52268161e-01,   1.05263158e-07, ...,\n",
       "          1.40000000e+01,   1.00000000e+00,   1.00000000e+00],\n",
       "       [  1.63618421e-06,   4.75943745e-01,   4.40789474e-08, ...,\n",
       "          4.50000000e+01,   7.00000000e+00,   0.00000000e+00]])"
      ]
     },
     "execution_count": 79,
     "metadata": {},
     "output_type": "execute_result"
    }
   ],
   "source": [
    "test_X"
   ]
  },
  {
   "cell_type": "code",
   "execution_count": 181,
   "metadata": {
    "collapsed": true
   },
   "outputs": [],
   "source": [
    "gbm = xgb.XGBClassifier(max_depth=3, n_estimators=300, learning_rate=0.05).fit(x_train, train_y)\n",
    "predictions = gbm.predict_proba(x_test)"
   ]
  },
  {
   "cell_type": "code",
   "execution_count": 182,
   "metadata": {
    "collapsed": true
   },
   "outputs": [],
   "source": [
    "prediction = pd.DataFrame(predictions, columns=['targe','target']).to_csv('bw2.csv')"
   ]
  },
  {
   "cell_type": "code",
   "execution_count": 96,
   "metadata": {},
   "outputs": [
    {
     "data": {
      "text/plain": [
       "RandomForestClassifier(bootstrap=True, class_weight=None, criterion='gini',\n",
       "            max_depth=None, max_features='auto', max_leaf_nodes=None,\n",
       "            min_impurity_decrease=0.0, min_impurity_split=None,\n",
       "            min_samples_leaf=1, min_samples_split=2,\n",
       "            min_weight_fraction_leaf=0.0, n_estimators=10, n_jobs=1,\n",
       "            oob_score=False, random_state=None, verbose=0,\n",
       "            warm_start=False)"
      ]
     },
     "execution_count": 96,
     "metadata": {},
     "output_type": "execute_result"
    }
   ],
   "source": [
    "from sklearn.ensemble import RandomForestClassifier\n",
    "rf=RandomForestClassifier()\n",
    "rf.fit(train_X,train_y)"
   ]
  },
  {
   "cell_type": "code",
   "execution_count": 97,
   "metadata": {
    "collapsed": true
   },
   "outputs": [],
   "source": [
    "predicti=rf.predict(test_X)"
   ]
  },
  {
   "cell_type": "code",
   "execution_count": 100,
   "metadata": {},
   "outputs": [],
   "source": [
    "prediction = pd.DataFrame(predicti, columns=['target']).to_csv('bw2.csv')"
   ]
  },
  {
   "cell_type": "code",
   "execution_count": null,
   "metadata": {
    "collapsed": true
   },
   "outputs": [],
   "source": []
  },
  {
   "cell_type": "code",
   "execution_count": 20,
   "metadata": {},
   "outputs": [
    {
     "ename": "NameError",
     "evalue": "name 'X_train' is not defined",
     "output_type": "error",
     "traceback": [
      "\u001b[1;31m---------------------------------------------------------------------------\u001b[0m",
      "\u001b[1;31mNameError\u001b[0m                                 Traceback (most recent call last)",
      "\u001b[1;32m<ipython-input-20-31098504381d>\u001b[0m in \u001b[0;36m<module>\u001b[1;34m()\u001b[0m\n\u001b[0;32m      1\u001b[0m \u001b[1;32mfrom\u001b[0m \u001b[0msklearn\u001b[0m \u001b[1;32mimport\u001b[0m \u001b[0mpreprocessing\u001b[0m\u001b[1;33m\u001b[0m\u001b[0m\n\u001b[1;32m----> 2\u001b[1;33m \u001b[1;32mfor\u001b[0m \u001b[0mx\u001b[0m \u001b[1;32min\u001b[0m \u001b[0mX_train\u001b[0m\u001b[1;33m.\u001b[0m\u001b[0mcolumns\u001b[0m\u001b[1;33m:\u001b[0m\u001b[1;33m\u001b[0m\u001b[0m\n\u001b[0m\u001b[0;32m      3\u001b[0m     \u001b[1;32mif\u001b[0m \u001b[0mX_train\u001b[0m\u001b[1;33m[\u001b[0m\u001b[0mx\u001b[0m\u001b[1;33m]\u001b[0m\u001b[1;33m.\u001b[0m\u001b[0mdtype\u001b[0m \u001b[1;33m==\u001b[0m \u001b[1;34m'object'\u001b[0m\u001b[1;33m:\u001b[0m\u001b[1;33m\u001b[0m\u001b[0m\n\u001b[0;32m      4\u001b[0m         \u001b[0mlbl\u001b[0m \u001b[1;33m=\u001b[0m \u001b[0mpreprocessing\u001b[0m\u001b[1;33m.\u001b[0m\u001b[0mLabelEncoder\u001b[0m\u001b[1;33m(\u001b[0m\u001b[1;33m)\u001b[0m\u001b[1;33m\u001b[0m\u001b[0m\n\u001b[0;32m      5\u001b[0m         \u001b[0mlbl\u001b[0m\u001b[1;33m.\u001b[0m\u001b[0mfit\u001b[0m\u001b[1;33m(\u001b[0m\u001b[0mlist\u001b[0m\u001b[1;33m(\u001b[0m\u001b[0mX_train\u001b[0m\u001b[1;33m[\u001b[0m\u001b[0mx\u001b[0m\u001b[1;33m]\u001b[0m\u001b[1;33m.\u001b[0m\u001b[0mvalues\u001b[0m\u001b[1;33m)\u001b[0m\u001b[1;33m)\u001b[0m\u001b[1;33m\u001b[0m\u001b[0m\n",
      "\u001b[1;31mNameError\u001b[0m: name 'X_train' is not defined"
     ]
    }
   ],
   "source": [
    "from sklearn import preprocessing\n",
    "for x in X_train.columns:\n",
    "    if X_train[x].dtype == 'object':\n",
    "        lbl = preprocessing.LabelEncoder()\n",
    "        lbl.fit(list(X_train[x].values))\n",
    "        X_train[x] = lbl.transform(list(X_train[x].values))"
   ]
  },
  {
   "cell_type": "code",
   "execution_count": null,
   "metadata": {},
   "outputs": [],
   "source": [
    "from sklearn.ensemble import ExtraTreesClassifier\n",
    "from sklearn.feature_selection import SelectFromModel\n",
    "clf = ExtraTreesClassifier(random_state=0)\n",
    "clf = clf.fit(X_train, y_train)\n",
    "clf.feature_importances_  \n",
    "\n",
    "model = SelectFromModel(clf, prefit=True)"
   ]
  },
  {
   "cell_type": "code",
   "execution_count": null,
   "metadata": {},
   "outputs": [],
   "source": [
    "X_train_opt = model.transform(X_train)\n",
    "feature_idx_train = model.get_support()\n",
    "feature_name_train = X_train.columns[feature_idx_train]\n",
    "print(feature_name_train)"
   ]
  },
  {
   "cell_type": "code",
   "execution_count": 32,
   "metadata": {
    "collapsed": true
   },
   "outputs": [],
   "source": [
    "from sklearn.base import TransformerMixin\n",
    "class DataFrameImputer(TransformerMixin):\n",
    "    def fit(self, X, y=None):\n",
    "        self.fill = pd.Series([X[c].value_counts().index[0]\n",
    "            if X[c].dtype == np.dtype('O') else X[c].median() for c in X],\n",
    "            index=X.columns)\n",
    "        return self\n",
    "    def transform(self, X, y=None):\n",
    "        return X.fillna(self.fill)"
   ]
  },
  {
   "cell_type": "code",
   "execution_count": 42,
   "metadata": {
    "collapsed": true
   },
   "outputs": [],
   "source": [
    "X_train = DataFrameImputer().fit_transform(train)\n",
    "X_train.drop(['target','transaction_id'],axis=1,inplace=True)"
   ]
  },
  {
   "cell_type": "code",
   "execution_count": null,
   "metadata": {
    "collapsed": true
   },
   "outputs": [],
   "source": []
  },
  {
   "cell_type": "code",
   "execution_count": 43,
   "metadata": {
    "collapsed": true
   },
   "outputs": [],
   "source": [
    "#categorical values to numerical values\n",
    "from sklearn.preprocessing import LabelEncoder\n",
    "le = LabelEncoder()\n",
    "for feature in X_train.columns:\n",
    "    if X_train[feature].dtype == 'object':\n",
    "        X_train[feature] = le.fit_transform(X_train[feature])"
   ]
  },
  {
   "cell_type": "code",
   "execution_count": 44,
   "metadata": {
    "collapsed": true
   },
   "outputs": [],
   "source": [
    "y_train=train[['target']]"
   ]
  },
  {
   "cell_type": "code",
   "execution_count": 46,
   "metadata": {},
   "outputs": [
    {
     "data": {
      "text/plain": [
       "Index(['num_var_1', 'num_var_2', 'num_var_3', 'num_var_4', 'num_var_5',\n",
       "       'num_var_6', 'num_var_7', 'cat_var_1', 'cat_var_2', 'cat_var_3',\n",
       "       'cat_var_4', 'cat_var_5', 'cat_var_6', 'cat_var_7', 'cat_var_8',\n",
       "       'cat_var_9', 'cat_var_10', 'cat_var_11', 'cat_var_12', 'cat_var_13',\n",
       "       'cat_var_14', 'cat_var_15', 'cat_var_16', 'cat_var_17', 'cat_var_18',\n",
       "       'cat_var_19', 'cat_var_20', 'cat_var_21', 'cat_var_22', 'cat_var_23',\n",
       "       'cat_var_24', 'cat_var_25', 'cat_var_26', 'cat_var_27', 'cat_var_28',\n",
       "       'cat_var_29', 'cat_var_30', 'cat_var_31', 'cat_var_32', 'cat_var_33',\n",
       "       'cat_var_34', 'cat_var_35', 'cat_var_36', 'cat_var_37', 'cat_var_38',\n",
       "       'cat_var_39', 'cat_var_40', 'cat_var_41', 'cat_var_42'],\n",
       "      dtype='object')"
      ]
     },
     "execution_count": 46,
     "metadata": {},
     "output_type": "execute_result"
    }
   ],
   "source": [
    "X_train.columns"
   ]
  },
  {
   "cell_type": "code",
   "execution_count": null,
   "metadata": {
    "collapsed": true
   },
   "outputs": [],
   "source": [
    "def correlation(dataset, threshold):\n",
    "    col_corr = set() # Set of all the names of deleted columns\n",
    "    corr_matrix = dataset.corr()\n",
    "    for i in range(len(corr_matrix.columns)):\n",
    "        for j in range(i):\n",
    "            if corr_matrix.iloc[i, j] >= threshold:\n",
    "                colname = corr_matrix.columns[i] # getting the name of column\n",
    "                col_corr.add(colname)\n",
    "                if colname in dataset.columns:\n",
    "                    del dataset[colname]"
   ]
  },
  {
   "cell_type": "code",
   "execution_count": 119,
   "metadata": {
    "collapsed": true
   },
   "outputs": [],
   "source": [
    "def correlation(dataset, threshold):\n",
    "    col_corr = set() # Set of all the names of deleted columns\n",
    "    corr_matrix = dataset.corr()\n",
    "    for i in range(len(corr_matrix.columns)):\n",
    "        for j in range(i):\n",
    "            if corr_matrix.iloc[i, j] >= threshold:\n",
    "                colname = corr_matrix.columns[i] # getting the name of column\n",
    "                col_corr.add(colname)\n",
    "                if colname in dataset.columns:\n",
    "                    del dataset[colname] # deleting the column from the dataset\n",
    "    print(dataset)"
   ]
  },
  {
   "cell_type": "code",
   "execution_count": 126,
   "metadata": {},
   "outputs": [
    {
     "name": "stdout",
     "output_type": "stream",
     "text": [
      "       transaction_id     num_var_1  num_var_2  num_var_3     num_var_4  \\\n",
      "0               id_11  2.302632e-08   0.040182        0.0  1.800000e-07   \n",
      "1               id_33  7.965789e-06   0.157872        0.0  2.105000e-06   \n",
      "2               id_51  7.828947e-08   0.089140        0.0  3.550000e-07   \n",
      "3               id_54  7.894737e-08   0.227239        0.0  1.050000e-06   \n",
      "4               id_62  3.321053e-06   0.160410        0.0  2.105000e-06   \n",
      "5               id_67  1.953947e-07   0.078566        0.0  3.550000e-07   \n",
      "6               id_71  1.736842e-07   0.600508        0.0  4.575000e-06   \n",
      "7               id_88  5.789474e-08   0.152374        0.0  2.105000e-06   \n",
      "8               id_95  3.289474e-08   0.093053        0.0  7.500000e-07   \n",
      "9               id_97  5.500000e-07   0.158401        0.0  2.105000e-06   \n",
      "10             id_109  1.171053e-07   0.153749        0.0  2.105000e-06   \n",
      "11             id_119  2.296053e-07   0.089563        0.0  3.550000e-07   \n",
      "12             id_122  5.197368e-08   0.164111        0.0  2.105000e-06   \n",
      "13             id_129  1.769737e-07   0.495612        0.0  1.133350e-04   \n",
      "14             id_142  1.315789e-07   0.086603        0.0  7.500000e-07   \n",
      "15             id_152  5.065789e-08   0.158507        0.0  2.105000e-06   \n",
      "16             id_156  4.394737e-07   0.159353        0.0  2.105000e-06   \n",
      "17             id_161  6.513158e-07   0.085439        0.0  3.550000e-07   \n",
      "18             id_173  3.947368e-09   0.083113        0.0  3.550000e-07   \n",
      "19             id_213  7.669572e-04   0.005181        0.0  3.486750e-03   \n",
      "20             id_218  4.934211e-08   0.086285        0.0  7.500000e-07   \n",
      "21             id_230  8.026316e-08   0.292165        0.0  2.720000e-06   \n",
      "22             id_236  5.526316e-07   0.085334        0.0  3.550000e-07   \n",
      "23             id_242  8.480263e-07   0.298826        0.0  2.720000e-06   \n",
      "24             id_250  9.802632e-08   0.268584        0.0  3.560000e-06   \n",
      "25             id_253  2.973684e-07   0.137887        0.0  6.090000e-06   \n",
      "26             id_254  2.302632e-08   0.083113        0.0  3.550000e-07   \n",
      "27             id_256  1.125000e-07   0.035001        0.0  2.545000e-06   \n",
      "28             id_259  4.167763e-06   0.159776        0.0  2.105000e-06   \n",
      "29             id_264  3.598684e-07   0.089140        0.0  3.550000e-07   \n",
      "...               ...           ...        ...        ...           ...   \n",
      "348948      id_872344  2.032895e-07   0.148884        0.0  2.105000e-06   \n",
      "348949      id_872345  2.605263e-07   0.085016        0.0  3.550000e-07   \n",
      "348950      id_872347  2.041053e-05   0.150999        0.0  2.105000e-06   \n",
      "348951      id_872352  1.513158e-07   0.149625        0.0  2.105000e-06   \n",
      "348952      id_872353  9.868421e-08   0.085016        0.0  7.500000e-07   \n",
      "348953      id_872359  2.302632e-08   0.088929        0.0  3.550000e-07   \n",
      "348954      id_872371  8.552632e-09   0.078672        0.0  3.550000e-07   \n",
      "348955      id_872374  2.868421e-07   0.572275        0.0  6.270000e-06   \n",
      "348956      id_872376  3.256579e-07   0.078672        0.0  3.550000e-07   \n",
      "348957      id_872381  2.302632e-07   0.159247        0.0  2.105000e-06   \n",
      "348958      id_872385  2.388158e-07   0.158507        0.0  2.105000e-06   \n",
      "348959      id_872391  1.384868e-06   0.227239        0.0  8.820000e-06   \n",
      "348960      id_872396  4.328947e-07   0.164534        0.0  2.105000e-06   \n",
      "348961      id_872399  3.256579e-07   0.085016        0.0  3.550000e-07   \n",
      "348962      id_872401  1.080921e-06   0.085862        0.0  3.550000e-07   \n",
      "348963      id_872403  2.039474e-08   0.571111        0.0  3.470000e-06   \n",
      "348964      id_872404  5.921053e-08   0.098763        0.0  7.500000e-07   \n",
      "348965      id_872405  1.842105e-08   0.078566        0.0  3.550000e-07   \n",
      "348966      id_872407  8.157895e-08   0.152585        0.0  2.105000e-06   \n",
      "348967      id_872411  2.646053e-06   0.608015        0.0  4.010000e-06   \n",
      "348968      id_872415  5.394737e-07   0.160622        0.0  2.105000e-06   \n",
      "348969      id_872419  3.322368e-07   0.150894        0.0  2.105000e-06   \n",
      "348970      id_872420  1.842105e-07   0.089035        0.0  3.550000e-07   \n",
      "348971      id_872428  1.644737e-08   0.083219        0.0  3.550000e-07   \n",
      "348972      id_872431  8.289474e-08   0.078778        0.0  3.550000e-07   \n",
      "348973      id_872435  2.796053e-07   0.085122        0.0  3.550000e-07   \n",
      "348974      id_872436  3.256579e-07   0.085334        0.0  3.550000e-07   \n",
      "348975      id_872437  4.546053e-07   0.148673        0.0  2.105000e-06   \n",
      "348976      id_872440  1.592105e-07   0.079095        0.0  3.550000e-07   \n",
      "348977      id_872443  1.710526e-07   0.163054        0.0  2.105000e-06   \n",
      "\n",
      "           num_var_5 cat_var_1 cat_var_2 cat_var_3 cat_var_4  ...    \\\n",
      "0       2.302632e-08       NaN        ce        db        ep  ...     \n",
      "1       2.769737e-07        da        tn        zl        tn  ...     \n",
      "2       4.671053e-08        gf        ce        gs        tn  ...     \n",
      "3       1.381579e-07       NaN        ce        fy        ep  ...     \n",
      "4       2.769737e-07        da        tn        zn        tn  ...     \n",
      "5       4.671053e-08        gf        ce        qt        tn  ...     \n",
      "6       5.986842e-07        hn        ce        qt        ep  ...     \n",
      "7       2.769737e-07        da        tn        xp        tn  ...     \n",
      "8       8.223684e-08        pu        ce       NaN        ep  ...     \n",
      "9       2.769737e-07        da        tn        tl        tn  ...     \n",
      "10      2.769737e-07        da        tn        uk        tn  ...     \n",
      "11      4.671053e-08        gf        ce        qz        tn  ...     \n",
      "12      2.769737e-07        da        tn        od        tn  ...     \n",
      "13      1.769737e-07        gj        ce        db        ep  ...     \n",
      "14      1.315789e-07        pu        ce        db        ep  ...     \n",
      "15      2.769737e-07        da        tn        qk        tn  ...     \n",
      "16      2.769737e-07        da        tn        zl        tn  ...     \n",
      "17      4.671053e-08        gf        ce        hm        tn  ...     \n",
      "18      4.671053e-08        gf        ce        mm        tn  ...     \n",
      "19      8.385783e-04        ga        iq        bh        ep  ...     \n",
      "20      4.934211e-08        pu        ce        hm        ep  ...     \n",
      "21      3.427632e-07        qk        ce        qk        ep  ...     \n",
      "22      4.671053e-08        gf        ce        ip        tn  ...     \n",
      "23      3.427632e-07        qk        ce        po        ep  ...     \n",
      "24      2.572368e-07        zl        ce        op        ep  ...     \n",
      "25      9.921053e-07        vg        ce        po        ep  ...     \n",
      "26      4.671053e-08        gf        ce        qt        tn  ...     \n",
      "27      3.361842e-07        to        ce        yv        ep  ...     \n",
      "28      2.769737e-07        da        tn        nu        tn  ...     \n",
      "29      4.671053e-08        gf        ce       NaN        tn  ...     \n",
      "...              ...       ...       ...       ...       ...  ...     \n",
      "348948  2.769737e-07        da        tn        qd        tn  ...     \n",
      "348949  4.671053e-08        gf        ce        rl        tn  ...     \n",
      "348950  2.769737e-07        da        tn        ce        tn  ...     \n",
      "348951  2.769737e-07        da        tn        qj        tn  ...     \n",
      "348952  7.894737e-08        pu        ce        yv        ep  ...     \n",
      "348953  4.671053e-08        gf        ce        qt        tn  ...     \n",
      "348954  4.671053e-08        gf        ce        qt        tn  ...     \n",
      "348955  2.782895e-07        wq        ce       NaN        ep  ...     \n",
      "348956  4.671053e-08        gf        ce        yv        tn  ...     \n",
      "348957  2.769737e-07        da        tn        tj        tn  ...     \n",
      "348958  2.769737e-07        da        tn        ta        tn  ...     \n",
      "348959  1.384868e-06        ch        ce        nt        ep  ...     \n",
      "348960  2.769737e-07        da        tn        zl        tn  ...     \n",
      "348961  4.671053e-08        gf        ce        bh        tn  ...     \n",
      "348962  4.671053e-08        gf        ce       NaN        tn  ...     \n",
      "348963  1.150658e-06        og        ce        bz        ep  ...     \n",
      "348964  5.921053e-08        pu        ce       NaN        ep  ...     \n",
      "348965  4.671053e-08        gf        ce        uz        tn  ...     \n",
      "348966  2.769737e-07        da        tn        cf        tn  ...     \n",
      "348967  5.263158e-07        fm        ce        yv        ep  ...     \n",
      "348968  2.769737e-07        da        tn        qb        tn  ...     \n",
      "348969  2.769737e-07        da        tn        tf        tn  ...     \n",
      "348970  4.671053e-08        gf        ce       NaN        tn  ...     \n",
      "348971  4.671053e-08        gf        ce        qt        tn  ...     \n",
      "348972  4.671053e-08        gf        ce        qt        tn  ...     \n",
      "348973  4.671053e-08        gf        ce        uz        tn  ...     \n",
      "348974  4.671053e-08        gf        ce        ba        tn  ...     \n",
      "348975  2.769737e-07        da        tn        od        tn  ...     \n",
      "348976  4.671053e-08        gf        ce       NaN        tn  ...     \n",
      "348977  2.769737e-07        da        tn        yr        tn  ...     \n",
      "\n",
      "       cat_var_34 cat_var_35 cat_var_36 cat_var_37 cat_var_38 cat_var_39  \\\n",
      "0               0          0          0          0          0          0   \n",
      "1               0          0          0          0          0          0   \n",
      "2               0          0          0          0          0          0   \n",
      "3               0          0          0          0          0          0   \n",
      "4               0          0          0          0          0          0   \n",
      "5               0          0          0          0          0          0   \n",
      "6               0          0          0          0          0          0   \n",
      "7               0          0          0          0          0          0   \n",
      "8               0          0          0          0          0          0   \n",
      "9               0          0          0          0          0          0   \n",
      "10              0          0          0          0          0          0   \n",
      "11              0          0          0          0          0          0   \n",
      "12              0          0          0          0          0          0   \n",
      "13              0          0          0          0          0          0   \n",
      "14              0          0          0          0          0          0   \n",
      "15              0          0          0          0          0          0   \n",
      "16              0          0          0          0          0          0   \n",
      "17              0          0          0          0          0          0   \n",
      "18              0          0          0          0          0          0   \n",
      "19              0          0          0          0          0          0   \n",
      "20              0          0          0          0          0          0   \n",
      "21              0          0          0          0          0          0   \n",
      "22              0          0          0          0          0          0   \n",
      "23              0          0          0          0          0          0   \n",
      "24              0          0          0          0          0          0   \n",
      "25              0          0          0          0          0          0   \n",
      "26              0          0          0          0          0          0   \n",
      "27              0          0          0          0          0          0   \n",
      "28              0          0          0          0          0          0   \n",
      "29              0          0          0          0          0          0   \n",
      "...           ...        ...        ...        ...        ...        ...   \n",
      "348948          0          0          0          0          0          0   \n",
      "348949          0          0          0          0          0          0   \n",
      "348950          0          0          0          0          0          0   \n",
      "348951          0          0          0          0          0          0   \n",
      "348952          0          0          0          0          0          0   \n",
      "348953          0          0          0          0          0          0   \n",
      "348954          0          0          0          0          0          0   \n",
      "348955          0          0          0          0          0          0   \n",
      "348956          0          0          0          0          0          0   \n",
      "348957          0          0          0          0          0          0   \n",
      "348958          0          0          0          0          0          0   \n",
      "348959          0          0          0          0          0          0   \n",
      "348960          0          0          0          0          0          0   \n",
      "348961          0          0          0          0          0          0   \n",
      "348962          0          0          0          0          0          0   \n",
      "348963          0          0          0          0          0          0   \n",
      "348964          0          0          0          0          0          0   \n",
      "348965          0          0          0          0          0          0   \n",
      "348966          0          0          0          0          0          0   \n",
      "348967          0          0          0          0          0          0   \n",
      "348968          0          0          0          0          0          0   \n",
      "348969          0          0          0          0          0          0   \n",
      "348970          0          0          0          0          0          0   \n",
      "348971          0          0          0          0          0          0   \n",
      "348972          0          0          0          0          0          0   \n",
      "348973          0          0          0          0          0          0   \n",
      "348974          0          0          0          0          0          0   \n",
      "348975          0          0          0          0          0          0   \n",
      "348976          0          0          0          0          0          0   \n",
      "348977          0          0          0          0          0          0   \n",
      "\n",
      "       cat_var_40 cat_var_41 cat_var_42 target  \n",
      "0               0          0          0      0  \n",
      "1               0          0          0      0  \n",
      "2               0          0          0      0  \n",
      "3               0          0          0      0  \n",
      "4               0          0          0      0  \n",
      "5               0          0          0      0  \n",
      "6               0          0          0      0  \n",
      "7               0          0          0      0  \n",
      "8               0          0          0      0  \n",
      "9               0          0          0      0  \n",
      "10              0          0          0      0  \n",
      "11              0          0          0      1  \n",
      "12              0          0          0      0  \n",
      "13              0          0          0      0  \n",
      "14              0          0          0      0  \n",
      "15              0          0          0      0  \n",
      "16              0          0          0      0  \n",
      "17              0          0          0      0  \n",
      "18              0          0          0      1  \n",
      "19              0          0          0      0  \n",
      "20              0          0          0      0  \n",
      "21              0          0          0      0  \n",
      "22              0          0          0      0  \n",
      "23              0          0          0      0  \n",
      "24              0          0          0      0  \n",
      "25              0          0          0      0  \n",
      "26              0          0          0      0  \n",
      "27              0          0          0      0  \n",
      "28              0          0          0      1  \n",
      "29              0          0          0      1  \n",
      "...           ...        ...        ...    ...  \n",
      "348948          0          0          0      1  \n",
      "348949          0          0          0      0  \n",
      "348950          0          0          0      0  \n",
      "348951          0          0          0      0  \n",
      "348952          0          0          0      0  \n",
      "348953          0          0          0      0  \n",
      "348954          0          0          0      0  \n",
      "348955          0          0          0      0  \n",
      "348956          0          0          0      0  \n",
      "348957          0          0          0      0  \n",
      "348958          0          0          0      0  \n",
      "348959          0          0          0      0  \n",
      "348960          0          0          0      0  \n",
      "348961          0          0          0      0  \n",
      "348962          0          0          0      0  \n",
      "348963          0          0          0      0  \n",
      "348964          0          0          0      0  \n",
      "348965          0          0          0      0  \n",
      "348966          0          0          0      0  \n",
      "348967          0          0          0      0  \n",
      "348968          0          0          0      1  \n",
      "348969          0          0          0      0  \n",
      "348970          0          0          0      0  \n",
      "348971          0          0          0      0  \n",
      "348972          0          0          0      0  \n",
      "348973          0          0          0      0  \n",
      "348974          0          0          0      0  \n",
      "348975          0          0          0      0  \n",
      "348976          0          0          0      0  \n",
      "348977          0          0          0      0  \n",
      "\n",
      "[348978 rows x 46 columns]\n"
     ]
    }
   ],
   "source": [
    "pd=correlation(train,0.5)"
   ]
  },
  {
   "cell_type": "code",
   "execution_count": 125,
   "metadata": {},
   "outputs": [
    {
     "data": {
      "text/plain": [
       "50"
      ]
     },
     "execution_count": 125,
     "metadata": {},
     "output_type": "execute_result"
    }
   ],
   "source": [
    "len(train.columns)"
   ]
  },
  {
   "cell_type": "code",
   "execution_count": null,
   "metadata": {
    "collapsed": true
   },
   "outputs": [],
   "source": []
  },
  {
   "cell_type": "code",
   "execution_count": 153,
   "metadata": {
    "collapsed": true
   },
   "outputs": [],
   "source": [
    "from sklearn.ensemble import ExtraTreesClassifier\n",
    "from sklearn.feature_selection import SelectFromModel\n",
    "clf = ExtraTreesClassifier(random_state=0)\n",
    "clf = clf.fit(X_train, y_train)\n",
    "clf.feature_importances_  \n",
    "\n",
    "model = SelectFromModel(clf, prefit=True)"
   ]
  },
  {
   "cell_type": "code",
   "execution_count": null,
   "metadata": {
    "collapsed": true
   },
   "outputs": [],
   "source": [
    "X_train_opt = model.transform(X_train)\n",
    "feature_idx_train = model.get_support()\n",
    "feature_name_train = X_train.columns[feature_idx_train]\n",
    "print(feature_name_train)"
   ]
  },
  {
   "cell_type": "code",
   "execution_count": null,
   "metadata": {
    "collapsed": true
   },
   "outputs": [],
   "source": []
  },
  {
   "cell_type": "code",
   "execution_count": null,
   "metadata": {
    "collapsed": true
   },
   "outputs": [],
   "source": []
  },
  {
   "cell_type": "code",
   "execution_count": null,
   "metadata": {
    "collapsed": true
   },
   "outputs": [],
   "source": []
  }
 ],
 "metadata": {
  "kernelspec": {
   "display_name": "Python 3",
   "language": "python",
   "name": "python3"
  },
  "language_info": {
   "codemirror_mode": {
    "name": "ipython",
    "version": 3
   },
   "file_extension": ".py",
   "mimetype": "text/x-python",
   "name": "python",
   "nbconvert_exporter": "python",
   "pygments_lexer": "ipython3",
   "version": "3.6.2"
  }
 },
 "nbformat": 4,
 "nbformat_minor": 2
}
